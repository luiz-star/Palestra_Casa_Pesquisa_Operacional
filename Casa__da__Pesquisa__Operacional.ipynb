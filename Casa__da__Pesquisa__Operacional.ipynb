{
  "nbformat": 4,
  "nbformat_minor": 0,
  "metadata": {
    "colab": {
      "name": "Casa _da_ Pesquisa_ Operacional.ipynb",
      "provenance": [],
      "collapsed_sections": [],
      "include_colab_link": true
    },
    "kernelspec": {
      "display_name": "Python 3 (ipykernel)",
      "language": "python",
      "name": "python3"
    },
    "language_info": {
      "codemirror_mode": {
        "name": "ipython",
        "version": 3
      },
      "file_extension": ".py",
      "mimetype": "text/x-python",
      "name": "python",
      "nbconvert_exporter": "python",
      "pygments_lexer": "ipython3",
      "version": "3.9.8"
    }
  },
  "cells": [
    {
      "cell_type": "markdown",
      "metadata": {
        "id": "view-in-github",
        "colab_type": "text"
      },
      "source": [
        "<a href=\"https://colab.research.google.com/github/luiz-star/Palestra_Casa_Pesquisa_Operacional/blob/main/Casa__da__Pesquisa__Operacional.ipynb\" target=\"_parent\"><img src=\"https://colab.research.google.com/assets/colab-badge.svg\" alt=\"Open In Colab\"/></a>"
      ]
    },
    {
      "cell_type": "markdown",
      "metadata": {
        "id": "jwX95zFFaA0D"
      },
      "source": [
        "# <font color='yellow'> NLP/Limpeza e pré-processamento de dados textuais com a biblioteca NeatText\n",
        "\n",
        "\n",
        "</font>\n",
        "\n",
        "#CaSa Da PeSqUiSa OpErAcIoNaL"
      ]
    },
    {
      "cell_type": "markdown",
      "metadata": {
        "id": "gtv8JTM61J5x"
      },
      "source": [
        "![Limpeza e pré-processamento de dados textuais com a biblioteca NeatText](https://user-images.githubusercontent.com/72530507/137633609-467a4245-4430-4171-a359-e068340b13bd.png)\n"
      ]
    },
    {
      "cell_type": "markdown",
      "metadata": {
        "id": "WQTt4GUZac2s"
      },
      "source": [
        "#Índice\n",
        "O que é NeatText\n",
        "\n",
        "Componentes do NeatText\n",
        "\n",
        "Instalação\n",
        "\n",
        "Usando TextFrame\n",
        "\n",
        "Usando TextExtractor\n",
        "\n",
        "Usando funções\n",
        "\n",
        "Usando o Explainer\n",
        "\n",
        "Conclusão"
      ]
    },
    {
      "cell_type": "markdown",
      "metadata": {
        "id": "3btKIe1baUDX"
      },
      "source": [
        "#O que é NeatText\n",
        "\n",
        "NeatText é um pacote simples de processamento de linguagem natural para limpar dados de texto e pré-processar dados de texto. Ele pode ser usado para limpar frases, extrair e-mails, números de telefone, links da web e emojis de frases. Também pode ser usado para configurar pipelines de pré-processamento de texto.\n",
        "\n",
        "![NeatText](https://user-images.githubusercontent.com/72530507/142779989-845ba8d4-745f-4dcf-beaf-e73a4121b336.jpg)\n",
        "\n"
      ]
    },
    {
      "cell_type": "code",
      "metadata": {
        "colab": {
          "base_uri": "https://localhost:8080/"
        },
        "id": "kG6Lt9WRZ17H",
        "outputId": "4f0f62eb-d007-4c45-9f9d-d4e18cbd131b"
      },
      "source": [
        "# Instalação da Biblioteca NeatText\n",
        "!pip install neattext"
      ],
      "execution_count": null,
      "outputs": [
        {
          "output_type": "stream",
          "name": "stdout",
          "text": [
            "Requirement already satisfied: neattext in /usr/local/lib/python3.7/dist-packages (0.1.2)\n"
          ]
        }
      ]
    },
    {
      "cell_type": "code",
      "metadata": {
        "id": "Z7stH9H1bt95"
      },
      "source": [
        "#Importando a Biblioteca\n",
        "import neattext as nt"
      ],
      "execution_count": null,
      "outputs": []
    },
    {
      "cell_type": "markdown",
      "metadata": {
        "id": "zVOnvcf0b51F"
      },
      "source": [
        "Veremos a funcionalidade de diferentes objetos desta biblioteca em uma frase.\n",
        "\n",
        "Vamos criar uma frase.\n",
        "\n",
        "Este será o exemplo que vamos utilizar para os nossos testes:\n",
        "\n",
        "\"A Pesquisa Operacional ☺️ é a área de conhecimento que lança mão de modelos matemáticos para tomar melhores decisões 👏. Muitas vezes a computação é necessária para a aplicação desses modelos analíticos,  😎seja pela complexidade dos modelos, 👀 seja pelo grande volume de dados. Por isso, você aprenderá a desenvolver modelos analíticos em R, Python, Excel VBA, JavaScript, C++, 👏 entre outras :).\n",
        "\n",
        "A 💪💪 Casa da Pesquisa Operacional 👀👀 é uma comunidade que foi criada com o intuito de fomentar e difundir a Pesquisa Operacional tanto no âmbito acadêmico, quanto no âmbito corporativo. Na CPO 😎 os modelos matemáticos são apresentados de maneira simples e intuitiva, sempre de maneira contextualizada resolvendo problemas reais da sociedade. Você aprenderá a tomar melhores decisões efetivamente colocando a “mão na massa” .\n",
        "\n",
        "Na CPO, o foco é que você seja capaz de tomar melhores decisões! 👏👏\n",
        "Seu número de contato é 0123456789.Seu e-mail é ficticio@gmail.com.👀Seu site é https://www.https://casadapesquisaoperacional.com/💪💪, @Prof. Marcos\"\n",
        "\n",
        "\n",
        "\n"
      ]
    },
    {
      "cell_type": "code",
      "metadata": {
        "id": "tZaQ7P7_cG49"
      },
      "source": [
        "my_text = 'A Pesquisa Operacional ☺️ é a área de conhecimento que lança mão de modelos matemáticos para tomar melhores decisões 👏. Muitas vezes a computação é necessária para a aplicação desses modelos analíticos, 😎seja pela complexidade dos modelos, 👀 seja pelo grande volume de dados. Por isso, você aprenderá a desenvolver modelos analíticos em R, Python, Excel VBA, JavaScript, C++, 👏 entre outras.A 💪💪 Casa da Pesquisa Operacional 👀👀 é uma comunidade que foi criada com o intuito de fomentar e difundir a Pesquisa Operacional tanto no âmbito acadêmico, quanto no âmbito corporativo. Na CPO 😎 os modelos matemáticos são apresentados de maneira simples e intuitiva, sempre de maneira contextualizada resolvendo problemas reais da sociedade. Você aprenderá a tomar melhores decisões efetivamente colocando a “mão na massa”.Na CPO, o foco é que você seja capaz de tomar melhores decisões! 👏👏 Seu número de contato é 0123456789.Seu e-mail é ficticio@gmail.com.👀Seu site é https://www.https://casadapesquisaoperacional.com/💪💪, @Prof. Marcos'"
      ],
      "execution_count": null,
      "outputs": []
    },
    {
      "cell_type": "markdown",
      "metadata": {
        "id": "lMZ_h7frfIZS"
      },
      "source": [
        "A frase acima contém muito ruído, como emojis, e-mails, links da web e alguns caracteres especiais. Então, vamos limpar essa frase."
      ]
    },
    {
      "cell_type": "markdown",
      "metadata": {
        "id": "k7VI5wHhfVba"
      },
      "source": [
        "Este objeto mantém o texto como um objeto TextFrame, o que nos permitirá fazer mais com o texto. Para usar o objeto TextFrame, temos que criar uma instância de TextFrame na frase dada. Vamos criar uma instância chamada sentx."
      ]
    },
    {
      "cell_type": "code",
      "metadata": {
        "id": "QY4smfDDfb-P"
      },
      "source": [
        "# Criando uma instância \n",
        "sentx = nt.TextFrame(text=my_text)"
      ],
      "execution_count": null,
      "outputs": []
    },
    {
      "cell_type": "code",
      "metadata": {
        "colab": {
          "base_uri": "https://localhost:8080/",
          "height": 140
        },
        "id": "91vLg6Knic85",
        "outputId": "ba73e082-c78a-4959-a96f-2e6641ea570e"
      },
      "source": [
        "# Imprimir o texto da Instância sentx. 'sent-envio ou enviei'\n",
        "sentx.text"
      ],
      "execution_count": null,
      "outputs": [
        {
          "output_type": "execute_result",
          "data": {
            "application/vnd.google.colaboratory.intrinsic+json": {
              "type": "string"
            },
            "text/plain": [
              "'A Pesquisa Operacional ☺️ é a área de conhecimento que lança mão de modelos matemáticos para tomar melhores decisões 👏. Muitas vezes a computação é necessária para a aplicação desses modelos analíticos, 😎seja pela complexidade dos modelos, 👀 seja pelo grande volume de dados. Por isso, você aprenderá a desenvolver modelos analíticos em R, Python, Excel VBA, JavaScript, C++, 👏 entre outras.A 💪💪 Casa da Pesquisa Operacional 👀👀 é uma comunidade que foi criada com o intuito de fomentar e difundir a Pesquisa Operacional tanto no âmbito acadêmico, quanto no âmbito corporativo. Na CPO 😎 os modelos matemáticos são apresentados de maneira simples e intuitiva, sempre de maneira contextualizada resolvendo problemas reais da sociedade. Você aprenderá a tomar melhores decisões efetivamente colocando a “mão na massa”.Na CPO, o foco é que você seja capaz de tomar melhores decisões! 👏👏 Seu número de contato é 0123456789.Seu e-mail é ficticio@gmail.com.👀Seu site é https://www.https://casadapesquisaoperacional.com/💪💪, @Prof. Marcos'"
            ]
          },
          "metadata": {},
          "execution_count": 32
        }
      ]
    },
    {
      "cell_type": "code",
      "metadata": {
        "colab": {
          "base_uri": "https://localhost:8080/"
        },
        "id": "lfcqi4pnixlO",
        "outputId": "93c3aa1e-5dae-4f3b-b809-34f783803622"
      },
      "source": [
        "#Agora que temos uma instância sentx, vamos usar o comando describe ().\n",
        "sentx.describe()"
      ],
      "execution_count": null,
      "outputs": [
        {
          "output_type": "stream",
          "name": "stdout",
          "text": [
            "Key      Value          \n",
            "Length  : 1028           \n",
            "vowels  : 352            \n",
            "consonants: 426            \n",
            "stopwords: 12             \n",
            "punctuations: 35             \n",
            "special_char: 37             \n",
            "tokens(whitespace): 153            \n",
            "tokens(words): 156            \n"
          ]
        }
      ]
    },
    {
      "cell_type": "markdown",
      "metadata": {
        "id": "K3OHT0qD1ol5"
      },
      "source": [
        "O que é Stopwords: Stopwords são palavras irrelevantes em Português (ou outros idiomas) que não acrescentam muito significado a uma frase . Eles podem ser ignorados com segurança sem sacrificar o significado da frase.\n",
        "\n",
        "Palavras irrelevantes estão disponíveis em abundância em qualquer idioma humano. Ao remover essas palavras, removemos as informações de baixo nível de nosso texto para dar mais foco às informações importantes."
      ]
    },
    {
      "cell_type": "code",
      "metadata": {
        "colab": {
          "base_uri": "https://localhost:8080/"
        },
        "id": "bOLefg3ukWSE",
        "outputId": "03cfc8d7-f355-4360-b1ae-86e99fec38a3"
      },
      "source": [
        "#Para contar o número de vogais na frase\n",
        "sentx.count_vowels ()"
      ],
      "execution_count": null,
      "outputs": [
        {
          "output_type": "execute_result",
          "data": {
            "text/plain": [
              "{'a': 98, 'e': 96, 'i': 49, 'o': 88, 'u': 21}"
            ]
          },
          "metadata": {},
          "execution_count": 34
        }
      ]
    },
    {
      "cell_type": "code",
      "metadata": {
        "colab": {
          "base_uri": "https://localhost:8080/"
        },
        "id": "nHaPXkfykfvF",
        "outputId": "1dc12053-ecdd-40f4-e3f6-2723fa33f6a5"
      },
      "source": [
        "#Para contar o número de palavras irrelevantes na frase \n",
        "sentx.count_stopwords ()"
      ],
      "execution_count": null,
      "outputs": [
        {
          "output_type": "execute_result",
          "data": {
            "text/plain": [
              "{'a': 8, 'no': 2, 'o': 2}"
            ]
          },
          "metadata": {},
          "execution_count": 35
        }
      ]
    },
    {
      "cell_type": "markdown",
      "metadata": {
        "id": "4HHjLgsUkRlu"
      },
      "source": [
        "Agora que vimos algumas métricas de texto básicas que esta biblioteca tem a oferecer, vamos ver alguns métodos de limpeza de texto."
      ]
    },
    {
      "cell_type": "code",
      "metadata": {
        "colab": {
          "base_uri": "https://localhost:8080/"
        },
        "id": "xLWdeHbwky1d",
        "outputId": "cbfa5f56-0c49-4bf8-a7e0-767a63209c07"
      },
      "source": [
        "#Para remover pontuações na frase \n",
        "print(sentx.remove_puncts())"
      ],
      "execution_count": null,
      "outputs": [
        {
          "output_type": "stream",
          "name": "stdout",
          "text": [
            "A Pesquisa Operacional ☺️ é a área de conhecimento que lança mão de modelos matemáticos para tomar melhores decisões 👏 Muitas vezes a computação é necessária para a aplicação desses modelos analíticos 😎seja pela complexidade dos modelos 👀 seja pelo grande volume de dados Por isso você aprenderá a desenvolver modelos analíticos em R Python Excel VBA JavaScript C++ 👏 entre outrasA 💪💪 Casa da Pesquisa Operacional 👀👀 é uma comunidade que foi criada com o intuito de fomentar e difundir a Pesquisa Operacional tanto no âmbito acadêmico quanto no âmbito corporativo Na CPO 😎 os modelos matemáticos são apresentados de maneira simples e intuitiva sempre de maneira contextualizada resolvendo problemas reais da sociedade Você aprenderá a tomar melhores decisões efetivamente colocando a “mão na massa”Na CPO o foco é que você seja capaz de tomar melhores decisões 👏👏 Seu número de contato é 0123456789Seu email é ficticio@gmailcom👀Seu site é https://wwwhttps://casadapesquisaoperacionalcom/💪💪 @Prof Marcos\n"
          ]
        }
      ]
    },
    {
      "cell_type": "code",
      "metadata": {
        "colab": {
          "base_uri": "https://localhost:8080/"
        },
        "id": "qfK4bOsUlgj0",
        "outputId": "3673074d-c9e6-44f6-db73-eb12b1c4a909"
      },
      "source": [
        "#Removendo emojis\n",
        "print(sentx.remove_emojis ())"
      ],
      "execution_count": null,
      "outputs": [
        {
          "output_type": "stream",
          "name": "stdout",
          "text": [
            "A Pesquisa Operacional  é a área de conhecimento que lança mão de modelos matemáticos para tomar melhores decisões  Muitas vezes a computação é necessária para a aplicação desses modelos analíticos seja pela complexidade dos modelos  seja pelo grande volume de dados Por isso você aprenderá a desenvolver modelos analíticos em R Python Excel VBA JavaScript C++  entre outrasA  Casa da Pesquisa Operacional  é uma comunidade que foi criada com o intuito de fomentar e difundir a Pesquisa Operacional tanto no âmbito acadêmico quanto no âmbito corporativo Na CPO  os modelos matemáticos são apresentados de maneira simples e intuitiva sempre de maneira contextualizada resolvendo problemas reais da sociedade Você aprenderá a tomar melhores decisões efetivamente colocando a “mão na massa”Na CPO o foco é que você seja capaz de tomar melhores decisões  Seu número de contato é 0123456789Seu email é ficticio@gmailcomSeu site é https://wwwhttps://casadapesquisaoperacionalcom/ @Prof Marcos\n"
          ]
        }
      ]
    },
    {
      "cell_type": "markdown",
      "metadata": {
        "id": "8so8Q8kfl1HG"
      },
      "source": [
        "Às vezes, as frases contêm dados valiosos como e-mails, números de telefone, emojis. Por exemplo, em um determinado tweet, o emoji pode nos dar informações valiosas, como o sentimento do tweet. Portanto, vamos usar o TextExtractor para extrair algumas informações valiosas da frase."
      ]
    },
    {
      "cell_type": "code",
      "metadata": {
        "id": "Fbu2gjZjl9LP"
      },
      "source": [
        "#Primeiro, vamos extrair o e-mail da frase. Para fazer isso,\n",
        "# temos que importar TextExtractor e criar uma instância dele\n",
        "from neattext import TextExtractor \n",
        "sentx1 = TextExtractor (text = my_text)"
      ],
      "execution_count": null,
      "outputs": []
    },
    {
      "cell_type": "code",
      "metadata": {
        "colab": {
          "base_uri": "https://localhost:8080/"
        },
        "id": "wRXR4NzcmXYt",
        "outputId": "44540fb5-c6bf-48c4-8d58-157fb762677f"
      },
      "source": [
        "#Agora que criamos uma instância dele, vamos usá-lo para extrair e-mail \n",
        "sentx1.extract_emails ()"
      ],
      "execution_count": null,
      "outputs": [
        {
          "output_type": "execute_result",
          "data": {
            "text/plain": [
              "['ficticio@gmail.com.']"
            ]
          },
          "metadata": {},
          "execution_count": 39
        }
      ]
    },
    {
      "cell_type": "code",
      "metadata": {
        "colab": {
          "base_uri": "https://localhost:8080/"
        },
        "id": "Mgpdae8mmkEO",
        "outputId": "d5c2db6e-814b-4a4a-8b81-836d8cc53f66"
      },
      "source": [
        "#vamos extrair os emojis da frase\n",
        "sentx1.extract_emojis ()"
      ],
      "execution_count": null,
      "outputs": [
        {
          "output_type": "execute_result",
          "data": {
            "text/plain": [
              "['☺️', '👏', '😎', '👀', '👏', '💪💪', '👀👀', '😎', '👏👏', '👀', '💪💪']"
            ]
          },
          "metadata": {},
          "execution_count": 40
        }
      ]
    },
    {
      "cell_type": "markdown",
      "metadata": {
        "id": "WkDdvtmUm7ZN"
      },
      "source": [
        "#Usando funções no Neattext\n",
        "As funções oferecem uma maneira única de pré-processar a frase. Podemos fazer todas as atividades que fizemos acima em uma linha usando funções que salvarão algumas linhas de código.\n",
        "\n",
        "Agora vamos usar funções para processar a frase. Para fazer isso, temos que importar os módulos necessários"
      ]
    },
    {
      "cell_type": "code",
      "metadata": {
        "id": "BnwLs6fZnDMt"
      },
      "source": [
        "# Importando os módulos\n",
        "from neattext.functions import clean_text"
      ],
      "execution_count": null,
      "outputs": []
    },
    {
      "cell_type": "code",
      "metadata": {
        "colab": {
          "base_uri": "https://localhost:8080/",
          "height": 140
        },
        "id": "SzSZnzilrkhh",
        "outputId": "04701000-431e-4619-d6b1-a632e142eefe"
      },
      "source": [
        "#Removendo URLs, palavras irrelevantes da frase original meu_texto\n",
        "clean_text (my_text, urls = True, stopwords = True)"
      ],
      "execution_count": null,
      "outputs": [
        {
          "output_type": "execute_result",
          "data": {
            "application/vnd.google.colaboratory.intrinsic+json": {
              "type": "string"
            },
            "text/plain": [
              "'pesquisa operacional é área de conhecimento que lança mão de modelos matemáticos para tomar melhores decisões . muitas vezes computação é necessária para aplicação desses modelos analíticos, seja pela complexidade dos modelos, seja pelo grande volume de dados. por isso, você aprenderá desenvolver modelos analíticos em r, python, excel vba, javascript, c++, entre outras.a casa da pesquisa operacional é uma comunidade que foi criada com intuito de fomentar e difundir pesquisa operacional tanto âmbito acadêmico, quanto âmbito corporativo. na cpo os modelos matemáticos são apresentados de maneira simples e intuitiva, sempre de maneira contextualizada resolvendo problemas reais da sociedade. você aprenderá tomar melhores decisões efetivamente colocando “mão na massa”.na cpo, foco é que você seja capaz de tomar melhores decisões! seu número de contato é 0123456789.seu e-mail é ficticio@gmail.com.seu site é @prof. marcos'"
            ]
          },
          "metadata": {},
          "execution_count": 42
        }
      ]
    },
    {
      "cell_type": "markdown",
      "metadata": {
        "id": "41CUGdgdsE7v"
      },
      "source": [
        "#Usando o Explainer\n",
        "Até agora vimos TextFrame, TextExtractor e Functions. Agora vamos ver outro objeto da biblioteca NeatText, ou seja, Explainer.\n",
        "\n",
        "Às vezes, podemos ficar confusos sobre o que um emoji pode significar e também às vezes queremos criar um emoji com base em uma determinada expressão e em alguns aplicativos, podemos querer usar Unicode em vez de emojis. Portanto, é necessário converter esses Unicodes em emojis na saída. O objeto explicador faz tudo isso para nós.\n",
        "\n",
        "O explicador pode fazer três tipos de atividades. Eles são\n",
        "\n",
        "emojify () - Cria um emoji baseado em uma determinada expressão emocional.\n",
        "\n",
        "emoji_explainer () - explica o significado por trás do emoji fornecido.\n",
        "\n",
        "unicode_2_emoji () - Converte Unicode em emoji."
      ]
    },
    {
      "cell_type": "code",
      "metadata": {
        "id": "TrmyhHBysb4v"
      },
      "source": [
        "#Importando as funções do explicador\n",
        "from neattext.explainer import emojify, emoji_explainer, unicode_2_emoji"
      ],
      "execution_count": null,
      "outputs": []
    },
    {
      "cell_type": "code",
      "metadata": {
        "colab": {
          "base_uri": "https://localhost:8080/",
          "height": 35
        },
        "id": "elY8HGLDso-_",
        "outputId": "ec3cb6d8-d85d-4039-ce85-33a41a04aee7"
      },
      "source": [
        "# Testando o emojify\n",
        "#Podemos ver que ele produzirá  um emoji baseado na emoção que demos a ele.\n",
        "emojify('cry')   # cry => chorar"
      ],
      "execution_count": null,
      "outputs": [
        {
          "output_type": "execute_result",
          "data": {
            "application/vnd.google.colaboratory.intrinsic+json": {
              "type": "string"
            },
            "text/plain": [
              "'😢'"
            ]
          },
          "metadata": {},
          "execution_count": 44
        }
      ]
    },
    {
      "cell_type": "code",
      "metadata": {
        "colab": {
          "base_uri": "https://localhost:8080/",
          "height": 35
        },
        "id": "VGJQe4pduni7",
        "outputId": "dcc75f3a-60ea-49e3-a5ec-8a2e31b3dd18"
      },
      "source": [
        "#Agora vamos ver emoji_explainer ()\n",
        "emoji_explainer ('😍')  #ROSTO SORRISO COM OLHOS EM FORMA DE CORAÇÃO"
      ],
      "execution_count": null,
      "outputs": [
        {
          "output_type": "execute_result",
          "data": {
            "application/vnd.google.colaboratory.intrinsic+json": {
              "type": "string"
            },
            "text/plain": [
              "'SMILING FACE WITH HEART-SHAPED EYES'"
            ]
          },
          "metadata": {},
          "execution_count": 45
        }
      ]
    },
    {
      "cell_type": "code",
      "metadata": {
        "colab": {
          "base_uri": "https://localhost:8080/",
          "height": 35
        },
        "id": "pRne1QQivIw7",
        "outputId": "291c8d50-2dfb-4c87-df0b-2fcea78f54f6"
      },
      "source": [
        "#Vamos ver unicode_2_emoji ()\n",
        "unicode_2_emoji ('0x1f49b')"
      ],
      "execution_count": null,
      "outputs": [
        {
          "output_type": "execute_result",
          "data": {
            "application/vnd.google.colaboratory.intrinsic+json": {
              "type": "string"
            },
            "text/plain": [
              "'💛'"
            ]
          },
          "metadata": {},
          "execution_count": 46
        }
      ]
    },
    {
      "cell_type": "markdown",
      "metadata": {
        "id": "z9wQC56-sZ0W"
      },
      "source": [
        "# <font color='yellow'>CONCLUSÃO</font>\n",
        "\n",
        "Vimos alguns os componentes da biblioteca NeatText. Removemos várias coisas indesejadas da frase e a deixamos pronta para processamento posterior. Também economizamos muito tempo escrevendo funções para pré-processamento. Esta biblioteca é útil para fazer qualquer tipo de pré-processamento de dados de texto."
      ]
    },
    {
      "cell_type": "code",
      "metadata": {
        "id": "WZOYevujwSYs"
      },
      "source": [
        "# MAR TRANQUILO NÃO FAZ MARINHEIRO BOM. "
      ],
      "execution_count": null,
      "outputs": []
    },
    {
      "cell_type": "markdown",
      "metadata": {
        "id": "iqbkrizUQ0A6"
      },
      "source": [
        "## Obrigado pela sua atenção"
      ]
    }
  ]
}